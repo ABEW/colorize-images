{
 "cells": [
  {
   "cell_type": "markdown",
   "id": "bf2d1085",
   "metadata": {},
   "source": [
    "# CIFAR-10 data loader functions"
   ]
  },
  {
   "cell_type": "code",
   "execution_count": 1,
   "id": "55d84d49",
   "metadata": {},
   "outputs": [],
   "source": [
    "import os\n",
    "import subprocess\n",
    "from urllib.request import urlretrieve\n",
    "import tarfile\n",
    "import numpy as np\n",
    "import pickle\n",
    "import sys\n",
    "from PIL import Image"
   ]
  },
  {
   "cell_type": "code",
   "execution_count": 2,
   "id": "e0ddd52f",
   "metadata": {},
   "outputs": [],
   "source": [
    "curr_dir = os.getcwd()"
   ]
  },
  {
   "cell_type": "code",
   "execution_count": 3,
   "id": "dc6d255a",
   "metadata": {},
   "outputs": [],
   "source": [
    "######################################################################\n",
    "# Setup working directory\n",
    "######################################################################\n",
    "os.chdir(curr_dir)\n",
    "data_dir = os.path.join(curr_dir, 'data/')\n",
    "\n",
    "if not os.path.exists(data_dir):\n",
    "    subprocess.run(['mkdir', data_dir])\n",
    "\n",
    "os.chdir(data_dir)"
   ]
  },
  {
   "cell_type": "code",
   "execution_count": 4,
   "id": "3a787273",
   "metadata": {},
   "outputs": [],
   "source": [
    "######################################################################\n",
    "# Helper functions for loading data\n",
    "######################################################################\n",
    "# adapted from \n",
    "# https://github.com/fchollet/keras/blob/master/keras/datasets/cifar10.py\n",
    "def get_file(fname,\n",
    "             origin,\n",
    "             untar=False,\n",
    "             extract=False,\n",
    "             archive_format='auto'):\n",
    "\n",
    "    if untar:\n",
    "        untar_fpath = os.path.join(data_dir, fname)\n",
    "        fpath = untar_fpath + '.tar.gz'\n",
    "    else:\n",
    "        fpath = os.path.join(datadir, fname)\n",
    "    \n",
    "    print('File path: %s' % fpath)\n",
    "    if not os.path.exists(fpath):\n",
    "        print('Downloading data from', origin)\n",
    "\n",
    "        error_msg = 'URL fetch failure on {}: {} -- {}'\n",
    "        try:\n",
    "            try:\n",
    "                urlretrieve(origin, fpath)\n",
    "            except URLError as e:\n",
    "                raise Exception(error_msg.format(origin, e.errno, e.reason))\n",
    "            except HTTPError as e:\n",
    "                raise Exception(error_msg.format(origin, e.code, e.msg))\n",
    "        except (Exception, KeyboardInterrupt) as e:\n",
    "            if os.path.exists(fpath):\n",
    "                os.remove(fpath)\n",
    "            raise\n",
    "\n",
    "    if untar:\n",
    "        if not os.path.exists(untar_fpath):\n",
    "            print('Extracting file.')\n",
    "            with tarfile.open(fpath) as archive:\n",
    "                archive.extractall(data_dir)\n",
    "        return untar_fpath\n",
    "\n",
    "    if extract:\n",
    "        _extract_archive(fpath, data_dir, archive_format)\n",
    "\n",
    "    return fpath\n",
    "\n",
    "def load_batch(fpath, label_key='labels'):\n",
    "    \"\"\"Internal utility for parsing CIFAR data.\n",
    "    # Arguments\n",
    "        fpath: path the file to parse.\n",
    "        label_key: key for label data in the retrieve\n",
    "            dictionary.\n",
    "    # Returns\n",
    "        A tuple `(data, labels)`.\n",
    "    \"\"\"\n",
    "    f = open(fpath, 'rb')\n",
    "    if sys.version_info < (3,):\n",
    "        d = pickle.load(f)\n",
    "    else:\n",
    "        d = pickle.load(f, encoding='bytes')\n",
    "        # decode utf8\n",
    "        d_decoded = {}\n",
    "        for k, v in d.items():\n",
    "            d_decoded[k.decode('utf8')] = v\n",
    "        d = d_decoded\n",
    "    f.close()\n",
    "    data = d['data']\n",
    "    labels = d[label_key]\n",
    "\n",
    "    data = data.reshape(data.shape[0], 3, 32, 32)\n",
    "    return data, labels\n",
    "\n",
    "def load_cifar10(transpose=False):\n",
    "    \"\"\"Loads CIFAR10 dataset.\n",
    "    # Returns\n",
    "        Tuple of Numpy arrays: `(x_train, y_train), (x_test, y_test)`.\n",
    "    \"\"\"\n",
    "    dirname = 'cifar-10-batches-py'\n",
    "    origin = 'http://www.cs.toronto.edu/~kriz/cifar-10-python.tar.gz'\n",
    "    path = get_file(dirname, origin=origin, untar=True)\n",
    "\n",
    "    num_train_samples = 50000\n",
    "\n",
    "    x_train = np.zeros((num_train_samples, 3, 32, 32), dtype='uint8')\n",
    "    y_train = np.zeros((num_train_samples,), dtype='uint8')\n",
    "\n",
    "    for i in range(1, 6):\n",
    "        fpath = os.path.join(path, 'data_batch_' + str(i))\n",
    "        data, labels = load_batch(fpath)\n",
    "        x_train[(i - 1) * 10000: i * 10000, :, :, :] = data\n",
    "        y_train[(i - 1) * 10000: i * 10000] = labels\n",
    "\n",
    "    fpath = os.path.join(path, 'test_batch')\n",
    "    x_test, y_test = load_batch(fpath)\n",
    "\n",
    "    y_train = np.reshape(y_train, (len(y_train), 1))\n",
    "    y_test = np.reshape(y_test, (len(y_test), 1))\n",
    "\n",
    "    if transpose:\n",
    "        x_train = x_train.transpose(0, 2, 3, 1)\n",
    "        x_test = x_test.transpose(0, 2, 3, 1)\n",
    "    return (x_train, y_train), (x_test, y_test)"
   ]
  },
  {
   "cell_type": "markdown",
   "id": "2730245c",
   "metadata": {},
   "source": [
    "# Load data"
   ]
  },
  {
   "cell_type": "code",
   "execution_count": 5,
   "id": "fe703d80",
   "metadata": {},
   "outputs": [
    {
     "name": "stdout",
     "output_type": "stream",
     "text": [
      "File path: /Users/abew/Documents/ML-practice/colorize-images/data/colours.tar.gz\n",
      "File path: /Users/abew/Documents/ML-practice/colorize-images/data/cifar-10-batches-py.tar.gz\n"
     ]
    }
   ],
   "source": [
    "# Download cluster centers for k-means over colours\n",
    "colours_fpath = get_file(fname='colours', \n",
    "                         origin='http://www.cs.toronto.edu/~jba/kmeans_colour_a2.tar.gz', \n",
    "                         untar=True)\n",
    "# Download CIFAR dataset\n",
    "m = load_cifar10()"
   ]
  },
  {
   "cell_type": "markdown",
   "id": "d5a996da",
   "metadata": {},
   "source": [
    "# Colourization as Classification\n",
    "\n",
    "Select a subset of 24 colours and frame colourization as a pixel-wise classification problem, where we label each pixel with one of 24 colours. The 24 colours are selected using [k-means clustering](https://en.wikipedia.org/wiki/K-means_clustering) over colours, and selecting cluster centers. \n",
    "\n",
    "The cluster centers are provided in http://www.cs.toronto.edu/~jba/kmeans_colour_a2.tar.gz, and downloaded by the helper functions above. For simplicity, though it is not ideal, measure distance in RGB space."
   ]
  },
  {
   "cell_type": "code",
   "execution_count": 6,
   "id": "2f4e3b6a",
   "metadata": {},
   "outputs": [],
   "source": [
    "\"\"\"\n",
    "Colourization of CIFAR-10 Horses via classification.\n",
    "\"\"\"\n",
    "from __future__ import print_function\n",
    "import argparse\n",
    "import math\n",
    "import time\n",
    "\n",
    "import numpy as np\n",
    "import numpy.random as npr\n",
    "import scipy.misc\n",
    "import matplotlib\n",
    "import matplotlib.pyplot as plt \n",
    "\n",
    "import tensorflow as tf \n",
    "from tensorflow import keras\n",
    "from tensorflow.keras import layers\n",
    "\n",
    "\n",
    "#from load_data import load_cifar10\n",
    "\n",
    "CIFAR_10_LABELS = ['airplane', 'automobile', 'bird', 'cat', 'deer',\n",
    "                'dog', 'frog', 'horse', 'ship', 'truck']\n",
    "\n",
    "lookup_dict = {label:i for i, label in enumerate(CIFAR_10_LABELS)}\n",
    "\n",
    "CATEGORY = lookup_dict['horse']"
   ]
  },
  {
   "cell_type": "code",
   "execution_count": 7,
   "id": "79420842",
   "metadata": {},
   "outputs": [],
   "source": [
    "def get_rgb_cat(xs, colours):\n",
    "    \"\"\"\n",
    "    Get colour categories given RGB values.\n",
    "    Args:\n",
    "      xs: float numpy array of RGB images in [B, H, W, C] format\n",
    "      colours: numpy array of colour categories and their RGB values\n",
    "    Returns:\n",
    "      result: int numpy array of shape [B, H, W, 1]\n",
    "    \"\"\"\n",
    "\n",
    "    def helper(xs, colours):\n",
    "        \"\"\"\n",
    "        Get colour categories given RGB values. This is done by choosing\n",
    "        the colour in `colours` that is the closest (in RGB space) to\n",
    "        each point in the image `xs`. This function is a little memory\n",
    "        intensive, and so the size of `xs` should not be too large.\n",
    "\n",
    "        Args:\n",
    "          xs: float numpy array of RGB images in [B, H, W, C] format\n",
    "          colours: numpy array of colour categories and their RGB values\n",
    "        Returns:\n",
    "          result: int numpy array of shape [B, H, W, 1]\n",
    "        \"\"\"\n",
    "        num_colours = np.shape(colours)[0]\n",
    "        xs = np.expand_dims(xs, 0)\n",
    "        cs = np.reshape(colours, [num_colours,1,1,1,3])\n",
    "        dists = np.linalg.norm(xs-cs, axis=-1) # -1 = colour axis\n",
    "        cat = np.argmin(dists, axis=0)\n",
    "        cat = np.expand_dims(cat, axis=-1)\n",
    "        return cat\n",
    "    \n",
    "    # limit the batch_size to max of 100\n",
    "    if np.shape(xs)[0] < 100:\n",
    "        return helper(xs)\n",
    "    \n",
    "    batch_size = 100\n",
    "    nexts = []\n",
    "    for i in range(0, np.shape(xs)[0], batch_size):\n",
    "        next_val = helper(xs[i:i+batch_size,:,:,:], colours)\n",
    "        nexts.append(next_val)\n",
    "    result = np.concatenate(nexts, axis=0)\n",
    "    return result\n",
    "\n",
    "def get_cat_rgb(cats, colours):\n",
    "    \"\"\"\n",
    "    Get RGB colours given the colour categories\n",
    "\n",
    "    Args:\n",
    "      cats: integer numpy array of colour categories\n",
    "      colours: numpy array of colour categories and their RGB values\n",
    "    Returns:\n",
    "      numpy tensor of RGB colours\n",
    "    \"\"\"\n",
    "    return colours[cats]\n",
    "\n",
    "def process(xs, ys, max_pixel=256.0, downsize_input=False):\n",
    "    \"\"\"\n",
    "    Pre-process CIFAR10 images by taking only the specified category,\n",
    "    shuffling, and have colour values be bound between 0 and 1\n",
    "\n",
    "    Args:\n",
    "      xs: the colour RGB pixel values\n",
    "      ys: the category labels\n",
    "      max_pixel: maximum pixel value in the original data\n",
    "    Returns:\n",
    "      xs: value normalized and shuffled colour images\n",
    "      grey: greyscale images, also normalized so values are between 0 and 1\n",
    "    \"\"\"\n",
    "    xs = xs / max_pixel\n",
    "    xs = xs[np.where(ys == CATEGORY)[0], :, :, :]\n",
    "    npr.shuffle(xs)\n",
    "    \n",
    "    xs = np.transpose(xs, [0,2,3,1])\n",
    "    \n",
    "    grey = np.mean(xs, axis=-1, keepdims=True)\n",
    "\n",
    "    if downsize_input:\n",
    "        downsize_module = keras.Sequential(\n",
    "            layers = [layers.AveragePooling2D(2),\n",
    "                      layers.AveragePooling2D(2),\n",
    "                      layers.UpSampling2D(2),\n",
    "                      layers.UpSampling2D(2)\n",
    "                     ]\n",
    "        )\n",
    "        xs_downsized = downsize_module(\n",
    "            tf.convert_to_tensor(xs))\n",
    "        xs_downsized = xs_downsized.numpy()\n",
    "        return (xs, xs_downsized)\n",
    "    else:\n",
    "        return (xs, grey)"
   ]
  },
  {
   "cell_type": "markdown",
   "id": "0da73124",
   "metadata": {},
   "source": [
    "# Build model\n",
    "\n",
    "![image.png](data:image/png;base64,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)"
   ]
  },
  {
   "cell_type": "code",
   "execution_count": 8,
   "id": "ffa7811e",
   "metadata": {},
   "outputs": [],
   "source": [
    "def conv_block(image, kernel_size, num_filters, \n",
    "               pool=True, batch_norm=True, upsample=False):\n",
    "    \n",
    "    x = layers.Conv2D(filters=num_filters,\n",
    "                      kernel_size=kernel_size,\n",
    "                      padding='SAME')(image)\n",
    "    if pool:\n",
    "        x = layers.MaxPool2D(pool_size=(2,2))(x)\n",
    "    elif upsample:\n",
    "        x = layers.UpSampling2D(size=(2,2))(x)\n",
    "    if batch_norm:\n",
    "        x = layers.BatchNormalization()(x)\n",
    "    \n",
    "    return layers.Activation('relu')(x)\n",
    "\n",
    "def custom_loss(y_true, y_pred):\n",
    "    predicted = tf.reshape(y_pred,[-1,y_pred.shape[-1]])\n",
    "    ground_truth = tf.reshape(y_true,[-1,y_true.shape[-1]])\n",
    "    \n",
    "    return keras.losses.SparseCategoricalCrossentropy(from_logits=True)(\n",
    "        ground_truth, predicted)"
   ]
  },
  {
   "cell_type": "code",
   "execution_count": 9,
   "id": "26c6c7f4",
   "metadata": {},
   "outputs": [],
   "source": [
    "def colorizer_model(input_shape, kernel_size, num_filters, num_colors,\n",
    "                   optimizer='adam', loss=custom_loss, lr=None):\n",
    "    \n",
    "    image_in = layers.Input(shape=input_shape)\n",
    "    \n",
    "    x = conv_block(image_in, kernel_size, num_filters)\n",
    "    x = conv_block(x, kernel_size, 2*num_filters)\n",
    "    x = conv_block(x, kernel_size, 2*num_filters, pool=False)\n",
    "    x = conv_block(x, kernel_size, num_filters, pool=False, upsample=True)\n",
    "    x = conv_block(x, kernel_size, num_colors, pool=False, upsample=True)\n",
    "    \n",
    "    outputs = layers.Conv2D(filters=num_colors, \n",
    "                            kernel_size=kernel_size,\n",
    "                            padding='SAME')(x)\n",
    "    \n",
    "    model = keras.Model(inputs=image_in, outputs=outputs)\n",
    "    \n",
    "    optimizer = keras.optimizers.get(optimizer)\n",
    "    if lr is not None:\n",
    "        optimizer.lr = lr\n",
    "        \n",
    "    model.compile(\n",
    "        optimizer = optimizer,\n",
    "        loss = loss,\n",
    "        metrics = [loss,\n",
    "                   keras.losses.mse]\n",
    "    )\n",
    "    \n",
    "    return model"
   ]
  },
  {
   "cell_type": "code",
   "execution_count": 12,
   "id": "91faa702",
   "metadata": {
    "scrolled": true
   },
   "outputs": [],
   "source": [
    "class AttrDict(dict):\n",
    "    def __init__(self, *args, **kwargs):\n",
    "        super(AttrDict, self).__init__(*args, **kwargs)\n",
    "        self.__dict__ = self\n",
    "        \n",
    "def train(args, cnn=None):\n",
    "    # Numpy random seed\n",
    "    npr.seed(args.seed)\n",
    "\n",
    "    # select save directory\n",
    "    save_dir = os.path.join(curr_dir,\"outputs\",args.experiment_name)\n",
    "\n",
    "    # LOAD THE COLOURS CATEGORIES 'ASCII', 'latin1', or 'bytes'\n",
    "    colours = np.load(args.colours, allow_pickle=True, encoding='bytes')[0]\n",
    "    num_colours = np.shape(colours)[0]\n",
    "    \n",
    "    # INPUT CHANNEL\n",
    "    num_in_channels = 1 if not args.downsize_input else 3\n",
    "\n",
    "    # LOAD THE MODEL\n",
    "    cnn = colorizer_model(\n",
    "        args.img_size+[num_in_channels],\n",
    "        args.kernel, \n",
    "        args.num_filters, \n",
    "        num_colours,\n",
    "        optimizer = args.optimizer,\n",
    "        loss = args.loss,\n",
    "        lr = args.learn_rate\n",
    "    )\n",
    "    \n",
    "    # show the model summary\n",
    "    cnn.summary()\n",
    "    \n",
    "    # DATA\n",
    "    print(\"Loading data...\")\n",
    "    (x_train, y_train), (x_test, y_test) = load_cifar10()\n",
    "\n",
    "    print(\"Transforming data...\")\n",
    "    train_rgb, train_grey = process(x_train, y_train, downsize_input = args.downsize_input)\n",
    "    train_rgb_cat = get_rgb_cat(train_rgb, colours)\n",
    "    test_rgb, test_grey = process(x_test, y_test, downsize_input = args.downsize_input)\n",
    "    test_rgb_cat = get_rgb_cat(test_rgb, colours)\n",
    "\n",
    "    # Create the outputs folder if not created already\n",
    "    if not os.path.exists(save_dir):\n",
    "        os.makedirs(save_dir) \n",
    "    \n",
    "    print(train_grey.shape)\n",
    "    print(train_rgb.shape)\n",
    "    print(train_rgb_cat.shape)\n",
    "    \n",
    "    print(\"Beginning training ...\")    \n",
    "    board_params = keras.callbacks.TensorBoard(log_dir=os.path.join(curr_dir,'logs'),\n",
    "                                                histogram_freq=5, \n",
    "                                                write_images=True,\n",
    "                                                )\n",
    "    model_saver = keras.callbacks.ModelCheckpoint(os.path.join(save_dir, 'checkpoint'),\n",
    "                                               monitor='val_loss',\n",
    "                                               mode='min',\n",
    "                                               save_best_only=True,\n",
    "                                                 )\n",
    "    callbacks = [model_saver, board_params]\n",
    "    \n",
    "    history = cnn.fit(x = train_grey,\n",
    "                        y = train_rgb_cat,\n",
    "                        epochs = args.epochs,\n",
    "                        callbacks = callbacks,\n",
    "                        validation_split = 0.2,\n",
    "                        shuffle = False,\n",
    "                        workers = 1,\n",
    "                        use_multiprocessing = False,\n",
    "                        verbose=1\n",
    "                       )\n",
    "    \n",
    "    test_losses = cnn.evaluate(x = test_grey, y = test_rgb_cat)\n",
    "\n",
    "    return history, test_loss, test_metric, cnn\n"
   ]
  },
  {
   "cell_type": "code",
   "execution_count": 13,
   "id": "718e151e",
   "metadata": {},
   "outputs": [
    {
     "name": "stdout",
     "output_type": "stream",
     "text": [
      "Model: \"model_1\"\n",
      "_________________________________________________________________\n",
      "Layer (type)                 Output Shape              Param #   \n",
      "=================================================================\n",
      "input_2 (InputLayer)         [(None, 32, 32, 1)]       0         \n",
      "_________________________________________________________________\n",
      "conv2d_6 (Conv2D)            (None, 32, 32, 32)        320       \n",
      "_________________________________________________________________\n",
      "max_pooling2d_2 (MaxPooling2 (None, 16, 16, 32)        0         \n",
      "_________________________________________________________________\n",
      "batch_normalization_5 (Batch (None, 16, 16, 32)        128       \n",
      "_________________________________________________________________\n",
      "activation_5 (Activation)    (None, 16, 16, 32)        0         \n",
      "_________________________________________________________________\n",
      "conv2d_7 (Conv2D)            (None, 16, 16, 64)        18496     \n",
      "_________________________________________________________________\n",
      "max_pooling2d_3 (MaxPooling2 (None, 8, 8, 64)          0         \n",
      "_________________________________________________________________\n",
      "batch_normalization_6 (Batch (None, 8, 8, 64)          256       \n",
      "_________________________________________________________________\n",
      "activation_6 (Activation)    (None, 8, 8, 64)          0         \n",
      "_________________________________________________________________\n",
      "conv2d_8 (Conv2D)            (None, 8, 8, 64)          36928     \n",
      "_________________________________________________________________\n",
      "batch_normalization_7 (Batch (None, 8, 8, 64)          256       \n",
      "_________________________________________________________________\n",
      "activation_7 (Activation)    (None, 8, 8, 64)          0         \n",
      "_________________________________________________________________\n",
      "conv2d_9 (Conv2D)            (None, 8, 8, 32)          18464     \n",
      "_________________________________________________________________\n",
      "up_sampling2d_2 (UpSampling2 (None, 16, 16, 32)        0         \n",
      "_________________________________________________________________\n",
      "batch_normalization_8 (Batch (None, 16, 16, 32)        128       \n",
      "_________________________________________________________________\n",
      "activation_8 (Activation)    (None, 16, 16, 32)        0         \n",
      "_________________________________________________________________\n",
      "conv2d_10 (Conv2D)           (None, 16, 16, 24)        6936      \n",
      "_________________________________________________________________\n",
      "up_sampling2d_3 (UpSampling2 (None, 32, 32, 24)        0         \n",
      "_________________________________________________________________\n",
      "batch_normalization_9 (Batch (None, 32, 32, 24)        96        \n",
      "_________________________________________________________________\n",
      "activation_9 (Activation)    (None, 32, 32, 24)        0         \n",
      "_________________________________________________________________\n",
      "conv2d_11 (Conv2D)           (None, 32, 32, 24)        5208      \n",
      "=================================================================\n",
      "Total params: 87,216\n",
      "Trainable params: 86,784\n",
      "Non-trainable params: 432\n",
      "_________________________________________________________________\n",
      "Loading data...\n",
      "File path: /Users/abew/Documents/ML-practice/colorize-images/data/cifar-10-batches-py.tar.gz\n",
      "Transforming data...\n",
      "(5000, 32, 32, 1)\n",
      "(5000, 32, 32, 3)\n",
      "(5000, 32, 32, 1)\n",
      "Beginning training ...\n",
      "Epoch 1/25\n"
     ]
    },
    {
     "name": "stderr",
     "output_type": "stream",
     "text": [
      "2022-01-02 20:59:13.328730: I tensorflow/core/profiler/lib/profiler_session.cc:131] Profiler session initializing.\n",
      "2022-01-02 20:59:13.328770: I tensorflow/core/profiler/lib/profiler_session.cc:146] Profiler session started.\n",
      "2022-01-02 20:59:13.329018: I tensorflow/core/profiler/lib/profiler_session.cc:164] Profiler session tear down.\n"
     ]
    },
    {
     "name": "stdout",
     "output_type": "stream",
     "text": [
      "  2/125 [..............................] - ETA: 26s - loss: 5.9725 - custom_loss: 5.9725 - mean_squared_error: 247.2238 "
     ]
    },
    {
     "name": "stderr",
     "output_type": "stream",
     "text": [
      "2022-01-02 20:59:14.847360: I tensorflow/core/profiler/lib/profiler_session.cc:131] Profiler session initializing.\n",
      "2022-01-02 20:59:14.847388: I tensorflow/core/profiler/lib/profiler_session.cc:146] Profiler session started.\n"
     ]
    },
    {
     "name": "stdout",
     "output_type": "stream",
     "text": [
      "\b\b\b\b\b\b\b\b\b\b\b\b\b\b\b\b\b\b\b\b\b\b\b\b\b\b\b\b\b\b\b\b\b\b\b\b\b\b\b\b\b\b\b\b\b\b\b\b\b\b\b\b\b\b\b\b\b\b\b\b\b\b\b\b\b\b\b\b\b\b\b\b\b\b\b\b\b\b\b\b\b\b\b\b\b\b\b\b\b\b\b\b\b\b\b\b\b\b\b\b\b\b\b\b\b\b\b\b\b\b\b\b\b\b\b\b\b\b\b\r",
      "  3/125 [..............................] - ETA: 31s - loss: 5.4853 - custom_loss: 5.4853 - mean_squared_error: 242.7921"
     ]
    },
    {
     "name": "stderr",
     "output_type": "stream",
     "text": [
      "2022-01-02 20:59:15.129194: I tensorflow/core/profiler/lib/profiler_session.cc:66] Profiler session collecting data.\n",
      "2022-01-02 20:59:15.132210: I tensorflow/core/profiler/lib/profiler_session.cc:164] Profiler session tear down.\n",
      "2022-01-02 20:59:15.135318: I tensorflow/core/profiler/rpc/client/save_profile.cc:136] Creating directory: /Users/abew/Documents/ML-practice/colorize-images/logs/train/plugins/profile/2022_01_02_20_59_15\n",
      "\n",
      "2022-01-02 20:59:15.137812: I tensorflow/core/profiler/rpc/client/save_profile.cc:142] Dumped gzipped tool data for trace.json.gz to /Users/abew/Documents/ML-practice/colorize-images/logs/train/plugins/profile/2022_01_02_20_59_15/Abe.local.trace.json.gz\n",
      "2022-01-02 20:59:15.142834: I tensorflow/core/profiler/rpc/client/save_profile.cc:136] Creating directory: /Users/abew/Documents/ML-practice/colorize-images/logs/train/plugins/profile/2022_01_02_20_59_15\n",
      "\n",
      "2022-01-02 20:59:15.143424: I tensorflow/core/profiler/rpc/client/save_profile.cc:142] Dumped gzipped tool data for memory_profile.json.gz to /Users/abew/Documents/ML-practice/colorize-images/logs/train/plugins/profile/2022_01_02_20_59_15/Abe.local.memory_profile.json.gz\n",
      "2022-01-02 20:59:15.146133: I tensorflow/core/profiler/rpc/client/capture_profile.cc:251] Creating directory: /Users/abew/Documents/ML-practice/colorize-images/logs/train/plugins/profile/2022_01_02_20_59_15\n",
      "Dumped tool data for xplane.pb to /Users/abew/Documents/ML-practice/colorize-images/logs/train/plugins/profile/2022_01_02_20_59_15/Abe.local.xplane.pb\n",
      "Dumped tool data for overview_page.pb to /Users/abew/Documents/ML-practice/colorize-images/logs/train/plugins/profile/2022_01_02_20_59_15/Abe.local.overview_page.pb\n",
      "Dumped tool data for input_pipeline.pb to /Users/abew/Documents/ML-practice/colorize-images/logs/train/plugins/profile/2022_01_02_20_59_15/Abe.local.input_pipeline.pb\n",
      "Dumped tool data for tensorflow_stats.pb to /Users/abew/Documents/ML-practice/colorize-images/logs/train/plugins/profile/2022_01_02_20_59_15/Abe.local.tensorflow_stats.pb\n",
      "Dumped tool data for kernel_stats.pb to /Users/abew/Documents/ML-practice/colorize-images/logs/train/plugins/profile/2022_01_02_20_59_15/Abe.local.kernel_stats.pb\n",
      "\n"
     ]
    },
    {
     "name": "stdout",
     "output_type": "stream",
     "text": [
      "125/125 [==============================] - 25s 193ms/step - loss: 2.8855 - custom_loss: 2.8855 - mean_squared_error: 194.8664 - val_loss: 5.5749 - val_custom_loss: 5.5591 - val_mean_squared_error: 475.6033\n",
      "INFO:tensorflow:Assets written to: /Users/abew/Documents/ML-practice/colorize-images/outputs/colourization_cnn/checkpoint/assets\n",
      "Epoch 2/25\n",
      "125/125 [==============================] - 25s 204ms/step - loss: 2.4258 - custom_loss: 2.4258 - mean_squared_error: 195.5440 - val_loss: 3.2115 - val_custom_loss: 3.2033 - val_mean_squared_error: 254.8774\n",
      "INFO:tensorflow:Assets written to: /Users/abew/Documents/ML-practice/colorize-images/outputs/colourization_cnn/checkpoint/assets\n",
      "Epoch 3/25\n",
      "125/125 [==============================] - 23s 182ms/step - loss: 2.3020 - custom_loss: 2.3020 - mean_squared_error: 206.9175 - val_loss: 3.0457 - val_custom_loss: 3.0434 - val_mean_squared_error: 322.4783\n",
      "INFO:tensorflow:Assets written to: /Users/abew/Documents/ML-practice/colorize-images/outputs/colourization_cnn/checkpoint/assets\n",
      "Epoch 4/25\n",
      "125/125 [==============================] - 22s 180ms/step - loss: 2.2111 - custom_loss: 2.2111 - mean_squared_error: 230.8968 - val_loss: 2.8736 - val_custom_loss: 2.8712 - val_mean_squared_error: 397.8905\n",
      "INFO:tensorflow:Assets written to: /Users/abew/Documents/ML-practice/colorize-images/outputs/colourization_cnn/checkpoint/assets\n",
      "Epoch 5/25\n",
      "125/125 [==============================] - 23s 183ms/step - loss: 2.1862 - custom_loss: 2.1862 - mean_squared_error: 245.4952 - val_loss: 2.6773 - val_custom_loss: 2.6753 - val_mean_squared_error: 405.5933\n",
      "INFO:tensorflow:Assets written to: /Users/abew/Documents/ML-practice/colorize-images/outputs/colourization_cnn/checkpoint/assets\n",
      "Epoch 6/25\n",
      "125/125 [==============================] - 23s 181ms/step - loss: 2.1617 - custom_loss: 2.1617 - mean_squared_error: 255.0114 - val_loss: 2.6537 - val_custom_loss: 2.6515 - val_mean_squared_error: 396.4583\n",
      "INFO:tensorflow:Assets written to: /Users/abew/Documents/ML-practice/colorize-images/outputs/colourization_cnn/checkpoint/assets\n",
      "Epoch 7/25\n",
      "125/125 [==============================] - 23s 180ms/step - loss: 2.1396 - custom_loss: 2.1396 - mean_squared_error: 266.0538 - val_loss: 2.6515 - val_custom_loss: 2.6509 - val_mean_squared_error: 433.7060\n",
      "INFO:tensorflow:Assets written to: /Users/abew/Documents/ML-practice/colorize-images/outputs/colourization_cnn/checkpoint/assets\n",
      "Epoch 8/25\n",
      "125/125 [==============================] - 23s 182ms/step - loss: 2.1195 - custom_loss: 2.1195 - mean_squared_error: 276.6409 - val_loss: 2.5494 - val_custom_loss: 2.5479 - val_mean_squared_error: 440.9889\n",
      "INFO:tensorflow:Assets written to: /Users/abew/Documents/ML-practice/colorize-images/outputs/colourization_cnn/checkpoint/assets\n",
      "Epoch 9/25\n",
      "125/125 [==============================] - 23s 182ms/step - loss: 2.1075 - custom_loss: 2.1075 - mean_squared_error: 286.0254 - val_loss: 2.5948 - val_custom_loss: 2.5929 - val_mean_squared_error: 469.0892\n",
      "Epoch 10/25\n",
      "125/125 [==============================] - 23s 181ms/step - loss: 2.0914 - custom_loss: 2.0914 - mean_squared_error: 296.5018 - val_loss: 2.2746 - val_custom_loss: 2.2723 - val_mean_squared_error: 426.4661\n",
      "INFO:tensorflow:Assets written to: /Users/abew/Documents/ML-practice/colorize-images/outputs/colourization_cnn/checkpoint/assets\n",
      "Epoch 11/25\n",
      "125/125 [==============================] - 22s 179ms/step - loss: 2.0825 - custom_loss: 2.0825 - mean_squared_error: 304.7912 - val_loss: 2.2696 - val_custom_loss: 2.2672 - val_mean_squared_error: 463.5768\n",
      "INFO:tensorflow:Assets written to: /Users/abew/Documents/ML-practice/colorize-images/outputs/colourization_cnn/checkpoint/assets\n",
      "Epoch 12/25\n",
      "125/125 [==============================] - 22s 179ms/step - loss: 2.0724 - custom_loss: 2.0724 - mean_squared_error: 312.7841 - val_loss: 2.3222 - val_custom_loss: 2.3198 - val_mean_squared_error: 488.6488\n",
      "Epoch 13/25\n",
      "125/125 [==============================] - 23s 180ms/step - loss: 2.0629 - custom_loss: 2.0629 - mean_squared_error: 319.4681 - val_loss: 2.2884 - val_custom_loss: 2.2861 - val_mean_squared_error: 487.9133\n",
      "Epoch 14/25\n",
      "125/125 [==============================] - 23s 181ms/step - loss: 2.0534 - custom_loss: 2.0534 - mean_squared_error: 327.9362 - val_loss: 2.2137 - val_custom_loss: 2.2110 - val_mean_squared_error: 498.4027\n",
      "INFO:tensorflow:Assets written to: /Users/abew/Documents/ML-practice/colorize-images/outputs/colourization_cnn/checkpoint/assets\n",
      "Epoch 15/25\n",
      "125/125 [==============================] - 22s 180ms/step - loss: 2.0512 - custom_loss: 2.0512 - mean_squared_error: 333.3742 - val_loss: 2.1526 - val_custom_loss: 2.1493 - val_mean_squared_error: 503.8257\n",
      "INFO:tensorflow:Assets written to: /Users/abew/Documents/ML-practice/colorize-images/outputs/colourization_cnn/checkpoint/assets\n",
      "Epoch 16/25\n",
      "125/125 [==============================] - 22s 180ms/step - loss: 2.0425 - custom_loss: 2.0425 - mean_squared_error: 340.8955 - val_loss: 2.0599 - val_custom_loss: 2.0571 - val_mean_squared_error: 460.1285\n",
      "INFO:tensorflow:Assets written to: /Users/abew/Documents/ML-practice/colorize-images/outputs/colourization_cnn/checkpoint/assets\n",
      "Epoch 17/25\n",
      "125/125 [==============================] - 22s 180ms/step - loss: 2.0365 - custom_loss: 2.0365 - mean_squared_error: 348.6069 - val_loss: 2.0198 - val_custom_loss: 2.0167 - val_mean_squared_error: 464.8056\n",
      "INFO:tensorflow:Assets written to: /Users/abew/Documents/ML-practice/colorize-images/outputs/colourization_cnn/checkpoint/assets\n",
      "Epoch 18/25\n",
      "125/125 [==============================] - 23s 184ms/step - loss: 2.0267 - custom_loss: 2.0267 - mean_squared_error: 356.2347 - val_loss: 2.0012 - val_custom_loss: 1.9991 - val_mean_squared_error: 633.0410\n",
      "INFO:tensorflow:Assets written to: /Users/abew/Documents/ML-practice/colorize-images/outputs/colourization_cnn/checkpoint/assets\n",
      "Epoch 19/25\n",
      "125/125 [==============================] - 23s 181ms/step - loss: 2.0193 - custom_loss: 2.0193 - mean_squared_error: 363.4015 - val_loss: 2.0000 - val_custom_loss: 1.9982 - val_mean_squared_error: 733.6458\n",
      "INFO:tensorflow:Assets written to: /Users/abew/Documents/ML-practice/colorize-images/outputs/colourization_cnn/checkpoint/assets\n",
      "Epoch 20/25\n",
      "125/125 [==============================] - 23s 180ms/step - loss: 2.0095 - custom_loss: 2.0095 - mean_squared_error: 370.5201 - val_loss: 1.9999 - val_custom_loss: 1.9967 - val_mean_squared_error: 564.3773\n",
      "INFO:tensorflow:Assets written to: /Users/abew/Documents/ML-practice/colorize-images/outputs/colourization_cnn/checkpoint/assets\n",
      "Epoch 21/25\n",
      "125/125 [==============================] - 23s 182ms/step - loss: 1.9983 - custom_loss: 1.9983 - mean_squared_error: 375.3710 - val_loss: 2.0602 - val_custom_loss: 2.0584 - val_mean_squared_error: 995.3517\n",
      "Epoch 22/25\n",
      "125/125 [==============================] - 23s 181ms/step - loss: 1.9939 - custom_loss: 1.9939 - mean_squared_error: 378.1896 - val_loss: 2.0537 - val_custom_loss: 2.0506 - val_mean_squared_error: 630.8967\n",
      "Epoch 23/25\n",
      "125/125 [==============================] - 23s 181ms/step - loss: 1.9886 - custom_loss: 1.9886 - mean_squared_error: 381.8543 - val_loss: 2.0351 - val_custom_loss: 2.0323 - val_mean_squared_error: 949.3378\n",
      "Epoch 24/25\n",
      "125/125 [==============================] - 23s 185ms/step - loss: 1.9832 - custom_loss: 1.9832 - mean_squared_error: 383.4431 - val_loss: 2.0425 - val_custom_loss: 2.0402 - val_mean_squared_error: 905.4222\n",
      "Epoch 25/25\n",
      "125/125 [==============================] - 23s 187ms/step - loss: 1.9830 - custom_loss: 1.9830 - mean_squared_error: 387.1865 - val_loss: 2.0904 - val_custom_loss: 2.0891 - val_mean_squared_error: 1124.4242\n",
      "32/32 [==============================] - 2s 52ms/step - loss: 2.0929 - custom_loss: 2.0935 - mean_squared_error: 1081.8159\n"
     ]
    },
    {
     "ename": "ValueError",
     "evalue": "too many values to unpack (expected 2)",
     "output_type": "error",
     "traceback": [
      "\u001b[0;31m---------------------------------------------------------------------------\u001b[0m",
      "\u001b[0;31mValueError\u001b[0m                                Traceback (most recent call last)",
      "\u001b[0;32m/var/folders/19/bv5l4v1x1_7ggwq6r91g05l00000gn/T/ipykernel_54012/3032358212.py\u001b[0m in \u001b[0;36m<module>\u001b[0;34m\u001b[0m\n\u001b[1;32m     21\u001b[0m }\n\u001b[1;32m     22\u001b[0m \u001b[0margs\u001b[0m\u001b[0;34m.\u001b[0m\u001b[0mupdate\u001b[0m\u001b[0;34m(\u001b[0m\u001b[0margs_dict\u001b[0m\u001b[0;34m)\u001b[0m\u001b[0;34m\u001b[0m\u001b[0;34m\u001b[0m\u001b[0m\n\u001b[0;32m---> 23\u001b[0;31m \u001b[0mhist\u001b[0m\u001b[0;34m,\u001b[0m \u001b[0mtest_loss\u001b[0m\u001b[0;34m,\u001b[0m \u001b[0mtest_metric\u001b[0m\u001b[0;34m,\u001b[0m \u001b[0mmodel\u001b[0m\u001b[0;34m=\u001b[0m \u001b[0mtrain\u001b[0m\u001b[0;34m(\u001b[0m\u001b[0margs\u001b[0m\u001b[0;34m)\u001b[0m\u001b[0;34m\u001b[0m\u001b[0;34m\u001b[0m\u001b[0m\n\u001b[0m",
      "\u001b[0;32m/var/folders/19/bv5l4v1x1_7ggwq6r91g05l00000gn/T/ipykernel_54012/3647443356.py\u001b[0m in \u001b[0;36mtrain\u001b[0;34m(args, cnn)\u001b[0m\n\u001b[1;32m     73\u001b[0m                        )\n\u001b[1;32m     74\u001b[0m \u001b[0;34m\u001b[0m\u001b[0m\n\u001b[0;32m---> 75\u001b[0;31m     test_loss, test_metric = cnn.evaluate(x = test_grey,\n\u001b[0m\u001b[1;32m     76\u001b[0m                                           \u001b[0my\u001b[0m \u001b[0;34m=\u001b[0m \u001b[0mtest_rgb_cat\u001b[0m\u001b[0;34m,\u001b[0m\u001b[0;34m\u001b[0m\u001b[0;34m\u001b[0m\u001b[0m\n\u001b[1;32m     77\u001b[0m                                          )\n",
      "\u001b[0;31mValueError\u001b[0m: too many values to unpack (expected 2)"
     ]
    }
   ],
   "source": [
    "args = AttrDict()\n",
    "args_dict = {\n",
    "              'gpu':True, \n",
    "              'valid':False, \n",
    "              'checkpoint':\"\", \n",
    "              'colours': data_dir + '/colours/colour_kmeans24_cat7.npy', \n",
    "              'model':\"CNN\", \n",
    "              'kernel':3,\n",
    "              'img_size':[32,32],\n",
    "              'num_filters':32,\n",
    "              'optimizer':'adam',\n",
    "              'loss': custom_loss,\n",
    "              'learn_rate':0.3, \n",
    "              'batch_size':100, \n",
    "              'epochs':25, \n",
    "              'seed':0,\n",
    "              'plot':True, \n",
    "              'experiment_name': 'colourization_cnn',\n",
    "              'visualize': False,\n",
    "              'downsize_input':False,\n",
    "}\n",
    "args.update(args_dict)\n",
    "hist, test_loss, test_metric, model= train(args)"
   ]
  },
  {
   "cell_type": "code",
   "execution_count": 15,
   "id": "02521d7c",
   "metadata": {},
   "outputs": [],
   "source": [
    "final_model = colorizer_model(\n",
    "        args.img_size+[1],\n",
    "        args.kernel, \n",
    "        args.num_filters, \n",
    "        24,\n",
    "        optimizer = args.optimizer,\n",
    "        loss = args.loss,\n",
    "        lr = args.learn_rate\n",
    "    )"
   ]
  },
  {
   "cell_type": "code",
   "execution_count": 16,
   "id": "bfe089e2",
   "metadata": {},
   "outputs": [
    {
     "name": "stderr",
     "output_type": "stream",
     "text": [
      "2022-01-02 21:28:08.249225: W tensorflow/core/util/tensor_slice_reader.cc:95] Could not open /Users/abew/Documents/ML-practice/colorize-images/outputs/colourization_cnn/checkpoint: Failed precondition: /Users/abew/Documents/ML-practice/colorize-images/outputs/colourization_cnn/checkpoint; Is a directory: perhaps your file is in a different file format and you need to use a different restore operator?\n"
     ]
    },
    {
     "data": {
      "text/plain": [
       "<tensorflow.python.training.tracking.util.CheckpointLoadStatus at 0x16e16bcd0>"
      ]
     },
     "execution_count": 16,
     "metadata": {},
     "output_type": "execute_result"
    }
   ],
   "source": [
    "final_model.load_weights(os.path.join(curr_dir,\"outputs\",args.experiment_name, 'checkpoint'))"
   ]
  },
  {
   "cell_type": "code",
   "execution_count": 24,
   "id": "5555ba09",
   "metadata": {},
   "outputs": [
    {
     "name": "stdout",
     "output_type": "stream",
     "text": [
      "Loading data...\n",
      "File path: /Users/abew/Documents/ML-practice/colorize-images/data/cifar-10-batches-py.tar.gz\n",
      "Transforming data...\n",
      "completed\n"
     ]
    }
   ],
   "source": [
    "print(\"Loading data...\")\n",
    "(x_train, y_train), (x_test, y_test) = load_cifar10()\n",
    "\n",
    "colours = np.load(args.colours, allow_pickle=True, encoding='bytes')[0]\n",
    "\n",
    "print(\"Transforming data...\")\n",
    "train_rgb, train_grey = process(x_train, y_train, downsize_input = args.downsize_input)\n",
    "train_rgb_cat = get_rgb_cat(train_rgb, colours)\n",
    "test_rgb, test_grey = process(x_test, y_test, downsize_input = args.downsize_input)\n",
    "test_rgb_cat = get_rgb_cat(test_rgb, colours)\n",
    "\n",
    "print(\"completed\")"
   ]
  },
  {
   "cell_type": "code",
   "execution_count": 26,
   "id": "ad1e4d0f",
   "metadata": {},
   "outputs": [
    {
     "name": "stdout",
     "output_type": "stream",
     "text": [
      "157/157 [==============================] - 9s 56ms/step - loss: 2.0026 - custom_loss: 2.0026 - mean_squared_error: 552.5081\n",
      "32/32 [==============================] - 2s 63ms/step - loss: 2.0045 - custom_loss: 2.0001 - mean_squared_error: 552.5429\n"
     ]
    }
   ],
   "source": [
    "train_losses = final_model.evaluate(x = train_grey, y = train_rgb_cat)\n",
    "test_losses = final_model.evaluate(x = test_grey, y = test_rgb_cat)"
   ]
  },
  {
   "cell_type": "code",
   "execution_count": 27,
   "id": "1130934d",
   "metadata": {},
   "outputs": [
    {
     "name": "stdout",
     "output_type": "stream",
     "text": [
      "[2.0026402473449707, 2.002565622329712, 552.508056640625]\n",
      "[2.0045478343963623, 2.0000598430633545, 552.5429077148438]\n"
     ]
    }
   ],
   "source": [
    "print(train_losses)\n",
    "print(test_losses)"
   ]
  },
  {
   "cell_type": "code",
   "execution_count": 62,
   "id": "167f41b5",
   "metadata": {},
   "outputs": [
    {
     "name": "stdout",
     "output_type": "stream",
     "text": [
      "(24, 3)\n"
     ]
    }
   ],
   "source": [
    "sample_test = test_grey[:10]\n",
    "\n",
    "pred = final_model.predict(sample_test).mean(axis=-1).astype('int')\n",
    "\n",
    "pred[pred<=1] = 1\n",
    "\n",
    "pred[pred>=24] = 23\n",
    "\n",
    "print(colours.shape)\n",
    "pred_color = get_cat_rgb(pred[:10], colours)"
   ]
  },
  {
   "cell_type": "code",
   "execution_count": 64,
   "id": "003ff298",
   "metadata": {},
   "outputs": [
    {
     "data": {
      "image/png": "[encoded data removed]",
      "text/plain": [
       "<Figure size 1008x576 with 2 Axes>"
      ]
     },
     "metadata": {
      "needs_background": "light"
     },
     "output_type": "display_data"
    }
   ],
   "source": [
    "fig,ax = plt.subplots(ncols=2, figsize=(14,8))\n",
    "\n",
    "# ax[0].imshow(pred[0].mean(axis=-1))\n",
    "ax[0].imshow(sample_test[0])\n",
    "ax[1].imshow(test_rgb[0])\n",
    "\n",
    "plt.show()"
   ]
  },
  {
   "cell_type": "code",
   "execution_count": 67,
   "id": "6706210b",
   "metadata": {},
   "outputs": [
    {
     "name": "stdout",
     "output_type": "stream",
     "text": [
      "[[0.0859375  0.08984375 0.09635417 ... 0.26953125 0.26822917 0.26041667]\n",
      " [0.08203125 0.07942708 0.09244792 ... 0.27213542 0.26822917 0.25651042]\n",
      " [0.08854167 0.08333333 0.09505208 ... 0.25260417 0.25130208 0.23958333]\n",
      " ...\n",
      " [0.08463542 0.09505208 0.10807292 ... 0.33984375 0.20833333 0.20963542]\n",
      " [0.09505208 0.09114583 0.10807292 ... 0.33463542 0.29557292 0.28776042]\n",
      " [0.09635417 0.10286458 0.11328125 ... 0.25520833 0.31380208 0.2734375 ]]\n"
     ]
    }
   ],
   "source": [
    "print(sample_test[0,...,0])"
   ]
  },
  {
   "cell_type": "code",
   "execution_count": null,
   "id": "cb9742a7",
   "metadata": {},
   "outputs": [],
   "source": []
  }
 ],
 "metadata": {
  "kernelspec": {
   "display_name": "Python 3 (ipykernel)",
   "language": "python",
   "name": "python3"
  },
  "language_info": {
   "codemirror_mode": {
    "name": "ipython",
    "version": 3
   },
   "file_extension": ".py",
   "mimetype": "text/x-python",
   "name": "python",
   "nbconvert_exporter": "python",
   "pygments_lexer": "ipython3",
   "version": "3.9.9"
  }
 },
 "nbformat": 4,
 "nbformat_minor": 5
}
